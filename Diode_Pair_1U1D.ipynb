{
 "cells": [
  {
   "cell_type": "markdown",
   "source": [
    "## Check Device"
   ],
   "metadata": {
    "collapsed": false
   }
  },
  {
   "cell_type": "code",
   "execution_count": 21,
   "outputs": [
    {
     "name": "stdout",
     "output_type": "stream",
     "text": [
      "Using cpu as backend.\n"
     ]
    }
   ],
   "source": [
    "import torch\n",
    "\n",
    "device = (\n",
    "    \"cuda\" if torch.cuda.is_available()\n",
    "    # else \"mps\" if torch.backends.mps.is_available()\n",
    "    else \"cpu\"\n",
    ")\n",
    "print(f\"Using {device} as backend.\")\n",
    "if device == \"cuda\":\n",
    "  !nvidia-smi"
   ],
   "metadata": {
    "collapsed": false,
    "ExecuteTime": {
     "end_time": "2023-08-28T23:42:27.367074Z",
     "start_time": "2023-08-28T23:42:27.340785Z"
    }
   }
  },
  {
   "cell_type": "markdown",
   "source": [
    "## Define Diode Pair Dataloader Function"
   ],
   "metadata": {
    "collapsed": false
   }
  },
  {
   "cell_type": "code",
   "execution_count": 22,
   "outputs": [],
   "source": [
    "import numpy as np\n",
    "import librosa\n",
    "import matplotlib.pyplot as plt\n",
    "from scipy.special import wrightomega\n",
    "from scipy.interpolate import interp1d\n",
    "from sklearn.model_selection import train_test_split\n",
    "from torch.utils.data import TensorDataset, DataLoader\n",
    "\n",
    "def diode_pair_lambert(a, R, num_up, num_down, model=None):\n",
    "    Is = 50e-9\n",
    "    eta = 1.0\n",
    "    Vt = 25.8563e-3 * eta\n",
    "\n",
    "    if model == \"1N4148\":\n",
    "        Is = 2.52e-9\n",
    "        eta = 1.752\n",
    "        Vt = 25.8563e-3 * eta\n",
    "\n",
    "    lambda_ = np.sign(a)\n",
    "    mu_0 = np.where(a >= 0, num_down, num_up)\n",
    "    mu_1 = np.where(a >= 0, num_up,   num_down)\n",
    "\n",
    "    arg_f = np.log((Is * R) / (mu_0 * Vt)) + (lambda_ * a) / (mu_0 * Vt)\n",
    "    arg_r = np.log((Is * R) / (mu_1 * Vt)) - (lambda_ * a) / (mu_1 * Vt)\n",
    "    b = a - 2 * Vt * lambda_ * (mu_0 * wrightomega(arg_f) - mu_1 * wrightomega(arg_r))\n",
    "    return b\n",
    "\n",
    "\n",
    "def diodePair_dataset_generate(N: int, num_up=1, num_down=1, model=None, r_begin=300, r_end=3e3):\n",
    "    a_MIN = -1\n",
    "    a_MAX = -a_MIN\n",
    "\n",
    "    a_dp = np.random.uniform(low=a_MIN, high=a_MAX, size=(N, ))\n",
    "    R_log_dp = np.random.uniform(low=np.log10(r_begin), high=np.log10(r_end), size=(N, ))\n",
    "    b_dp = diode_pair_lambert(a=a_dp, R=np.power(10, R_log_dp), num_up=num_up, num_down=num_down, model=model)\n",
    "\n",
    "    aR_dp = np.stack((a_dp, R_log_dp), axis=1)\n",
    "    return aR_dp, b_dp\n",
    "\n",
    "\n",
    "def diodePair_dataset_load(N, num_up=1, num_down=1, r_begin=None, r_end=None):\n",
    "    r_begin_str = f\"{r_begin / 1000:.2f}k\"\n",
    "    r_end_str   = f\"{r_end   / 1000:.2f}k\"\n",
    "    data_path = ( \"./LTspice_data\" +\n",
    "                  f\"/{num_up}u{num_down}d\" + \"/diode_pair\" + f\"_{num_up}u{num_down}d\" +\n",
    "                  f\"_{r_begin_str}\" + f\"_{r_end_str}\"\n",
    "    )\n",
    "\n",
    "    v_i_path = data_path + \"_i.wav\"\n",
    "    v_o_path = data_path + \"_o.wav\"\n",
    "    r_path   = data_path + \"_r.wav\"\n",
    "\n",
    "    v_i, fs = librosa.load(path=v_i_path, sr=None, mono=True)\n",
    "    v_o, _  = librosa.load(path=v_o_path, sr=None, mono=True)\n",
    "    r,   _  = librosa.load(path=r_path,   sr=None, mono=True)\n",
    "\n",
    "    if len(v_i) != len(v_o):\n",
    "        raise ValueError(\"The length of v_in and v_out are not same!\")\n",
    "    if len(v_i) != len(r):\n",
    "        raise ValueError(\"The length of v_in and r are not same!\")\n",
    "\n",
    "    if N <= len(v_i):\n",
    "        v_i = v_i[:N]\n",
    "        v_o = v_o[:N]\n",
    "        r   = r  [:N]\n",
    "    else:\n",
    "        raise ValueError(\"The N must be less or equal than the length of audio files.\")\n",
    "\n",
    "    v_i *= 10\n",
    "    a_dp = v_i\n",
    "    b_dp = 2 * v_o - v_i\n",
    "\n",
    "    aR_dp = np.stack((a_dp, r), axis=1)\n",
    "    return aR_dp, b_dp, fs\n",
    "\n",
    "\n",
    "def get_diodePair_dataloader(N, num_up=1, num_down=1, mode=\"l\", model=\"1N4148\", r_begin=10e3, r_end=100e3, batch_size=16, split_ratio=0.8, shuffle=True, random_state=42, plot=False):\n",
    "    aR_dp = np.zeros((N, 2), dtype=np.float64)\n",
    "    b_dp  = np.zeros((N,  ), dtype=np.float64)\n",
    "    fs = None\n",
    "\n",
    "    if mode == \"w\":\n",
    "        aR_dp, b_dp = diodePair_dataset_generate(N, num_up=num_up, num_down=num_down, r_begin=r_begin, r_end=r_end, model=model)\n",
    "    elif mode == \"LTspice\":\n",
    "        aR_dp, b_dp, fs = diodePair_dataset_load(N, num_up=num_up, num_down=num_down, r_begin=r_begin, r_end=r_end)\n",
    "\n",
    "    if plot:\n",
    "        # fig_size = (11, 5)\n",
    "        # fig, (ax1, ax2) = plt.subplots(1, 2, figsize=fig_size)\n",
    "        #\n",
    "        # ax1.scatter(aR_dp[:, 0], b_dp, s=1)\n",
    "        # ax1.set_title(f'Diode Pair {num_up}U{num_down}D')\n",
    "        # ax1.set_xlabel('Incident Wave [V]')\n",
    "        # ax1.set_ylabel('Reflected Wave [V]')\n",
    "        # ax1.set_xlim([-1, 1])\n",
    "        # ax1.set_ylim([-1, 1])\n",
    "        #\n",
    "        # ax2.hist(aR_dp[:, 1], bins=100, density=True)\n",
    "        # ax2.set_xlabel('Free Parameter Normalized R')\n",
    "        # ax2.set_ylabel('Density')\n",
    "\n",
    "        plt.figure(figsize=(5, 5))\n",
    "        plt.scatter(aR_dp[:, 0], b_dp[:], s=0.1)\n",
    "        # plt.title(f'Diode Pair {num_up}U{num_down}D (1N34A)', fontsize=13)\n",
    "        plt.xlabel('Incident Wave (V)', fontsize=13, labelpad=13)\n",
    "        plt.ylabel('Reflected Wave (V)', fontsize=13, labelpad=13)\n",
    "        plt.xlim([-1, 1])\n",
    "        plt.ylim([-1, 1])\n",
    "        plt.xticks(np.arange(-1, 1.5, 0.5))\n",
    "        plt.yticks(np.arange(-1, 1.5, 0.5))\n",
    "        plt.gca().set_aspect('equal')\n",
    "        plt.grid(True, alpha=0.5)\n",
    "\n",
    "        plt.tight_layout()\n",
    "        plt.savefig(f'diode_pair_{num_up}u{num_down}d.png', format='png', dpi=300)\n",
    "        plt.show()\n",
    "\n",
    "    aR_dp_train, aR_dp_valid, b_dp_train, b_dp_valid = train_test_split(\n",
    "        aR_dp, b_dp,\n",
    "        train_size=split_ratio,\n",
    "        shuffle=shuffle,\n",
    "        random_state=random_state\n",
    "    )\n",
    "\n",
    "    train_ds = TensorDataset(\n",
    "        torch.tensor(aR_dp_train, dtype=torch.float32).to(device),\n",
    "        torch.tensor(b_dp_train,   dtype=torch.float32).to(device),\n",
    "    )\n",
    "    valid_ds = TensorDataset(\n",
    "        torch.tensor(aR_dp_valid, dtype=torch.float32).to(device),\n",
    "        torch.tensor(b_dp_valid,   dtype=torch.float32).to(device)\n",
    "    )\n",
    "\n",
    "    train_dl = DataLoader(train_ds, batch_size=batch_size, shuffle=True)\n",
    "    valid_dl = DataLoader(valid_ds, batch_size=batch_size * 2)\n",
    "\n",
    "    return train_dl, valid_dl, fs"
   ],
   "metadata": {
    "collapsed": false,
    "ExecuteTime": {
     "end_time": "2023-08-28T23:42:27.369331Z",
     "start_time": "2023-08-28T23:42:27.354394Z"
    }
   }
  },
  {
   "cell_type": "markdown",
   "source": [
    "## Define Neural Diode Pair Model"
   ],
   "metadata": {
    "collapsed": false
   }
  },
  {
   "cell_type": "code",
   "execution_count": 23,
   "outputs": [],
   "source": [
    "from torch import nn\n",
    "from typing import Callable\n",
    "\n",
    "class DiodePair(nn.Module):\n",
    "    def __init__(self, num_layers: int, layer_size: int, input_size: int = 2, output_size: int = 1, activation_fn: Callable = nn.ELU()):\n",
    "        \"\"\"\n",
    "        A fully connected neural network module of WDF diode pair .\n",
    "\n",
    "        Args:\n",
    "            num_layers: The number of layers in the network.\n",
    "            layer_size: The size of each layer.\n",
    "            input_size: The size of the input layer. Defaults to 2.\n",
    "            output_size: The size of the output layer. Defaults to 1.\n",
    "            activation_fn: The activation function to use. Defaults to ReLU.\n",
    "        \"\"\"\n",
    "        super().__init__()\n",
    "        self.num_layers = num_layers\n",
    "        self.layer_size = layer_size\n",
    "        self.activation_fn = activation_fn\n",
    "\n",
    "        self.input_layer = nn.Linear(input_size, layer_size)\n",
    "        self.hidden_layers = nn.ModuleList([nn.Linear(layer_size, layer_size) for _ in range(num_layers-1)])\n",
    "        self.output_layer = nn.Linear(layer_size, output_size)\n",
    "\n",
    "    def forward(self, x: torch.Tensor) -> torch.Tensor:\n",
    "        \"\"\"\n",
    "        Forward pass through the network.\n",
    "\n",
    "        Args:\n",
    "            x: The input tensor.\n",
    "\n",
    "        Returns:\n",
    "            The output tensor.\n",
    "        \"\"\"\n",
    "        y = self.activation_fn(self.input_layer(x))\n",
    "        for hidden_layer in self.hidden_layers:\n",
    "            y = self.activation_fn(hidden_layer(y))\n",
    "        y = self.output_layer(y)\n",
    "        return y"
   ],
   "metadata": {
    "collapsed": false,
    "ExecuteTime": {
     "end_time": "2023-08-28T23:42:27.397686Z",
     "start_time": "2023-08-28T23:42:27.359545Z"
    }
   }
  },
  {
   "cell_type": "markdown",
   "source": [
    "## Create Neural Diode Pair Model"
   ],
   "metadata": {
    "collapsed": false
   }
  },
  {
   "cell_type": "code",
   "execution_count": 24,
   "outputs": [],
   "source": [
    "def train_epoch(model, train_dl, loss_func, optimizer):\n",
    "    model.train()\n",
    "    total_loss, total_samples = 0.0, 0\n",
    "    for x, y in train_dl:\n",
    "        pred = model(x.unsqueeze(1))\n",
    "        loss = loss_func(y, pred.squeeze())\n",
    "        total_loss += loss.item() * x.size(0)\n",
    "        total_samples += x.size(0)\n",
    "        optimizer.zero_grad()\n",
    "        loss.backward()\n",
    "        optimizer.step()\n",
    "    return total_loss / total_samples\n",
    "\n",
    "\n",
    "def eval_model(model, valid_dl, loss_func):\n",
    "    model.eval()\n",
    "    total_loss, total_samples = 0.0, 0\n",
    "    with torch.no_grad():\n",
    "        for x, y in valid_dl:\n",
    "            pred = model(x.unsqueeze(1))\n",
    "            loss = loss_func(y, pred.squeeze())\n",
    "            total_loss += loss.item() * x.size(0)\n",
    "            total_samples += x.size(0)\n",
    "    return total_loss / total_samples\n",
    "\n",
    "\n",
    "def save_model(model, path_root, num_up, num_down, r_begin, r_end, loss):\n",
    "    model_name = f\"{num_up}u{num_down}d\"\n",
    "    R_begin_str = f\"{r_begin / 1000:.2f}k\"\n",
    "    R_end_str = f\"{r_end / 1000:.2f}k\"\n",
    "    loss_str = f\"{loss:.2e}\"\n",
    "    path_save = path_root + f\"/{model_name}\" + f\"/diode_pair_{model_name}_1N4148_l\" + f\"_{R_begin_str}_{R_end_str}\" + f\"_{num_layers}x{layer_size}\" + f\"_{loss_str}\" + \".pth\"\n",
    "    torch.save(model, path_save)\n",
    "    print(f\"Save model to {path_save}\")\n",
    "\n",
    "\n",
    "def run_model(model, train_dl, valid_dl, epochs, loss_func_train, loss_func_valid, optimizer, scheduler):\n",
    "    start_time = time.time()\n",
    "    print(\"               [Train loss]    [Eval loss](MSE)        [Time left]\")\n",
    "    print(\"------------------------------------------------------------------\")\n",
    "    train_losses, valid_losses = [], []\n",
    "\n",
    "    for epoch in range(epochs):\n",
    "        start_time_epoch = time.time()\n",
    "        train_loss = train_epoch(model, train_dl, loss_func_train, optimizer)\n",
    "        valid_loss = eval_model(model, valid_dl, loss_func_valid)\n",
    "        scheduler.step(valid_loss)\n",
    "        end_time_epoch = time.time()\n",
    "\n",
    "        train_losses.append(train_loss)\n",
    "        valid_losses.append(valid_loss)\n",
    "\n",
    "        print(f\"Epoch {epoch+1:>5d}\\t\\t{train_loss:>8.3e}\\t\\t{valid_loss:>8.3e}({20*np.log10(valid_loss):.2f}dB)\\t\\t{(end_time_epoch-start_time_epoch)/60*(epochs-epoch-1):>.2f} min\")\n",
    "\n",
    "        # torch.save(model, f\"checkpoint_epoch_{epoch}.pth\")\n",
    "\n",
    "    end_time = time.time()\n",
    "    print(f\"\\nTime cost：{(end_time - start_time)/60:>.2f} min\")\n",
    "\n",
    "    return train_losses, valid_losses"
   ],
   "metadata": {
    "collapsed": false,
    "ExecuteTime": {
     "end_time": "2023-08-28T23:42:27.398407Z",
     "start_time": "2023-08-28T23:42:27.362102Z"
    }
   }
  },
  {
   "cell_type": "code",
   "execution_count": 25,
   "outputs": [],
   "source": [
    "class ESRLoss(nn.Module):\n",
    "    def __init__(self):\n",
    "        super(ESRLoss, self).__init__()\n",
    "\n",
    "    def forward(self, y_true, y_pred):\n",
    "        return torch.sum((y_true - y_pred)**2) / torch.sum(y_true**2)\n",
    "    \n",
    "class DCLoss(nn.Module):\n",
    "    def __init__(self):\n",
    "        super(DCLoss, self).__init__()\n",
    "\n",
    "    def forward(self, y_true, y_pred):\n",
    "        numerator = torch.abs(torch.mean(y_true - y_pred))**2\n",
    "        denominator = torch.mean(y_true ** 2)\n",
    "        return numerator / denominator\n",
    "\n",
    "class CombinedSignalLoss(nn.Module):\n",
    "    def __init__(self):\n",
    "        super().__init__()\n",
    "\n",
    "    def forward(self, y_target, y_pred):\n",
    "        diff = y_target - y_pred\n",
    "        diff2 = diff ** 2\n",
    "        y_energy = y_target ** 2\n",
    "        \n",
    "        loss_mse = torch.mean(diff2)\n",
    "        loss_esr = torch.sum(diff2) / torch.sum(y_energy)\n",
    "        loss_dc = torch.abs(torch.mean(diff))**2 / torch.mean(y_energy)\n",
    "        return loss_mse + loss_esr + loss_dc"
   ],
   "metadata": {
    "collapsed": false,
    "ExecuteTime": {
     "end_time": "2023-08-28T23:42:27.398843Z",
     "start_time": "2023-08-28T23:42:27.369054Z"
    }
   }
  },
  {
   "cell_type": "code",
   "execution_count": 30,
   "outputs": [
    {
     "name": "stdout",
     "output_type": "stream",
     "text": [
      "\n",
      "\n",
      "\n",
      "======================\n",
      "2x8, 1700.0 → 2500.0\n",
      "======================\n"
     ]
    },
    {
     "data": {
      "text/plain": "<Figure size 500x500 with 1 Axes>",
      "image/png": "[encoded data removed]"
     },
     "metadata": {},
     "output_type": "display_data"
    },
    {
     "name": "stdout",
     "output_type": "stream",
     "text": [
      "               [Train loss]    [Eval loss](MSE)        [Time left]\n",
      "------------------------------------------------------------------\n"
     ]
    },
    {
     "ename": "KeyboardInterrupt",
     "evalue": "",
     "output_type": "error",
     "traceback": [
      "\u001B[0;31m---------------------------------------------------------------------------\u001B[0m",
      "\u001B[0;31mKeyboardInterrupt\u001B[0m                         Traceback (most recent call last)",
      "Cell \u001B[0;32mIn[30], line 34\u001B[0m\n\u001B[1;32m     31\u001B[0m scheduler \u001B[38;5;241m=\u001B[39m ReduceLROnPlateau(optimizer, factor\u001B[38;5;241m=\u001B[39m\u001B[38;5;241m0.5\u001B[39m, patience\u001B[38;5;241m=\u001B[39m\u001B[38;5;241m7\u001B[39m, verbose\u001B[38;5;241m=\u001B[39m\u001B[38;5;28;01mTrue\u001B[39;00m)\n\u001B[1;32m     32\u001B[0m train_dl, valid_dl, Fs \u001B[38;5;241m=\u001B[39m get_diodePair_dataloader(N\u001B[38;5;241m=\u001B[39m\u001B[38;5;28mint\u001B[39m(\u001B[38;5;241m2\u001B[39m\u001B[38;5;241m*\u001B[39m\u001B[38;5;241m192e3\u001B[39m), num_up\u001B[38;5;241m=\u001B[39mnum_up, num_down\u001B[38;5;241m=\u001B[39mnum_down, mode\u001B[38;5;241m=\u001B[39m\u001B[38;5;124m\"\u001B[39m\u001B[38;5;124mLTspice\u001B[39m\u001B[38;5;124m\"\u001B[39m, r_begin\u001B[38;5;241m=\u001B[39mr_begin, r_end\u001B[38;5;241m=\u001B[39mr_end, batch_size\u001B[38;5;241m=\u001B[39mbatch_size, plot\u001B[38;5;241m=\u001B[39m\u001B[38;5;28;01mTrue\u001B[39;00m)\n\u001B[0;32m---> 34\u001B[0m train_losses, valid_losses \u001B[38;5;241m=\u001B[39m \u001B[43mrun_model\u001B[49m\u001B[43m(\u001B[49m\u001B[43mmodel\u001B[49m\u001B[43m,\u001B[49m\u001B[43m \u001B[49m\u001B[43mtrain_dl\u001B[49m\u001B[43m,\u001B[49m\u001B[43m \u001B[49m\u001B[43mvalid_dl\u001B[49m\u001B[43m,\u001B[49m\u001B[43m \u001B[49m\u001B[43mepochs\u001B[49m\u001B[43m,\u001B[49m\n\u001B[1;32m     35\u001B[0m \u001B[43m                                       \u001B[49m\u001B[43mloss_func_train\u001B[49m\u001B[38;5;241;43m=\u001B[39;49m\u001B[43mloss_func_train\u001B[49m\u001B[43m,\u001B[49m\n\u001B[1;32m     36\u001B[0m \u001B[43m                                       \u001B[49m\u001B[43mloss_func_valid\u001B[49m\u001B[38;5;241;43m=\u001B[39;49m\u001B[43mloss_func_valid\u001B[49m\u001B[43m,\u001B[49m\n\u001B[1;32m     37\u001B[0m \u001B[43m                                       \u001B[49m\u001B[43moptimizer\u001B[49m\u001B[38;5;241;43m=\u001B[39;49m\u001B[43moptimizer\u001B[49m\u001B[43m,\u001B[49m\n\u001B[1;32m     38\u001B[0m \u001B[43m                                       \u001B[49m\u001B[43mscheduler\u001B[49m\u001B[38;5;241;43m=\u001B[39;49m\u001B[43mscheduler\u001B[49m\u001B[43m)\u001B[49m\n\u001B[1;32m     40\u001B[0m path_root \u001B[38;5;241m=\u001B[39m \u001B[38;5;124m\"\u001B[39m\u001B[38;5;124m./pre_trained_models\u001B[39m\u001B[38;5;124m\"\u001B[39m\n\u001B[1;32m     41\u001B[0m save_model(model, path_root \u001B[38;5;241m=\u001B[39m path_root, num_up\u001B[38;5;241m=\u001B[39mnum_up, num_down\u001B[38;5;241m=\u001B[39mnum_down, r_begin\u001B[38;5;241m=\u001B[39mr_begin, r_end\u001B[38;5;241m=\u001B[39mr_end, loss\u001B[38;5;241m=\u001B[39mvalid_losses[\u001B[38;5;241m-\u001B[39m\u001B[38;5;241m1\u001B[39m])\n",
      "Cell \u001B[0;32mIn[24], line 45\u001B[0m, in \u001B[0;36mrun_model\u001B[0;34m(model, train_dl, valid_dl, epochs, loss_func_train, loss_func_valid, optimizer, scheduler)\u001B[0m\n\u001B[1;32m     43\u001B[0m \u001B[38;5;28;01mfor\u001B[39;00m epoch \u001B[38;5;129;01min\u001B[39;00m \u001B[38;5;28mrange\u001B[39m(epochs):\n\u001B[1;32m     44\u001B[0m     start_time_epoch \u001B[38;5;241m=\u001B[39m time\u001B[38;5;241m.\u001B[39mtime()\n\u001B[0;32m---> 45\u001B[0m     train_loss \u001B[38;5;241m=\u001B[39m \u001B[43mtrain_epoch\u001B[49m\u001B[43m(\u001B[49m\u001B[43mmodel\u001B[49m\u001B[43m,\u001B[49m\u001B[43m \u001B[49m\u001B[43mtrain_dl\u001B[49m\u001B[43m,\u001B[49m\u001B[43m \u001B[49m\u001B[43mloss_func_train\u001B[49m\u001B[43m,\u001B[49m\u001B[43m \u001B[49m\u001B[43moptimizer\u001B[49m\u001B[43m)\u001B[49m\n\u001B[1;32m     46\u001B[0m     valid_loss \u001B[38;5;241m=\u001B[39m eval_model(model, valid_dl, loss_func_valid)\n\u001B[1;32m     47\u001B[0m     scheduler\u001B[38;5;241m.\u001B[39mstep(valid_loss)\n",
      "Cell \u001B[0;32mIn[24], line 6\u001B[0m, in \u001B[0;36mtrain_epoch\u001B[0;34m(model, train_dl, loss_func, optimizer)\u001B[0m\n\u001B[1;32m      4\u001B[0m \u001B[38;5;28;01mfor\u001B[39;00m x, y \u001B[38;5;129;01min\u001B[39;00m train_dl:\n\u001B[1;32m      5\u001B[0m     pred \u001B[38;5;241m=\u001B[39m model(x\u001B[38;5;241m.\u001B[39munsqueeze(\u001B[38;5;241m1\u001B[39m))\n\u001B[0;32m----> 6\u001B[0m     loss \u001B[38;5;241m=\u001B[39m \u001B[43mloss_func\u001B[49m\u001B[43m(\u001B[49m\u001B[43my\u001B[49m\u001B[43m,\u001B[49m\u001B[43m \u001B[49m\u001B[43mpred\u001B[49m\u001B[38;5;241;43m.\u001B[39;49m\u001B[43msqueeze\u001B[49m\u001B[43m(\u001B[49m\u001B[43m)\u001B[49m\u001B[43m)\u001B[49m\n\u001B[1;32m      7\u001B[0m     total_loss \u001B[38;5;241m+\u001B[39m\u001B[38;5;241m=\u001B[39m loss\u001B[38;5;241m.\u001B[39mitem() \u001B[38;5;241m*\u001B[39m x\u001B[38;5;241m.\u001B[39msize(\u001B[38;5;241m0\u001B[39m)\n\u001B[1;32m      8\u001B[0m     total_samples \u001B[38;5;241m+\u001B[39m\u001B[38;5;241m=\u001B[39m x\u001B[38;5;241m.\u001B[39msize(\u001B[38;5;241m0\u001B[39m)\n",
      "File \u001B[0;32m~/miniconda3/envs/py_wdf_gpu/lib/python3.8/site-packages/torch/nn/modules/module.py:1194\u001B[0m, in \u001B[0;36mModule._call_impl\u001B[0;34m(self, *input, **kwargs)\u001B[0m\n\u001B[1;32m   1190\u001B[0m \u001B[38;5;66;03m# If we don't have any hooks, we want to skip the rest of the logic in\u001B[39;00m\n\u001B[1;32m   1191\u001B[0m \u001B[38;5;66;03m# this function, and just call forward.\u001B[39;00m\n\u001B[1;32m   1192\u001B[0m \u001B[38;5;28;01mif\u001B[39;00m \u001B[38;5;129;01mnot\u001B[39;00m (\u001B[38;5;28mself\u001B[39m\u001B[38;5;241m.\u001B[39m_backward_hooks \u001B[38;5;129;01mor\u001B[39;00m \u001B[38;5;28mself\u001B[39m\u001B[38;5;241m.\u001B[39m_forward_hooks \u001B[38;5;129;01mor\u001B[39;00m \u001B[38;5;28mself\u001B[39m\u001B[38;5;241m.\u001B[39m_forward_pre_hooks \u001B[38;5;129;01mor\u001B[39;00m _global_backward_hooks\n\u001B[1;32m   1193\u001B[0m         \u001B[38;5;129;01mor\u001B[39;00m _global_forward_hooks \u001B[38;5;129;01mor\u001B[39;00m _global_forward_pre_hooks):\n\u001B[0;32m-> 1194\u001B[0m     \u001B[38;5;28;01mreturn\u001B[39;00m \u001B[43mforward_call\u001B[49m\u001B[43m(\u001B[49m\u001B[38;5;241;43m*\u001B[39;49m\u001B[38;5;28;43minput\u001B[39;49m\u001B[43m,\u001B[49m\u001B[43m \u001B[49m\u001B[38;5;241;43m*\u001B[39;49m\u001B[38;5;241;43m*\u001B[39;49m\u001B[43mkwargs\u001B[49m\u001B[43m)\u001B[49m\n\u001B[1;32m   1195\u001B[0m \u001B[38;5;66;03m# Do not call functions when jit is used\u001B[39;00m\n\u001B[1;32m   1196\u001B[0m full_backward_hooks, non_full_backward_hooks \u001B[38;5;241m=\u001B[39m [], []\n",
      "Cell \u001B[0;32mIn[25], line 23\u001B[0m, in \u001B[0;36mCombinedSignalLoss.forward\u001B[0;34m(self, y_target, y_pred)\u001B[0m\n\u001B[1;32m     21\u001B[0m \u001B[38;5;28;01mdef\u001B[39;00m \u001B[38;5;21mforward\u001B[39m(\u001B[38;5;28mself\u001B[39m, y_target, y_pred):\n\u001B[1;32m     22\u001B[0m     diff \u001B[38;5;241m=\u001B[39m y_target \u001B[38;5;241m-\u001B[39m y_pred\n\u001B[0;32m---> 23\u001B[0m     diff2 \u001B[38;5;241m=\u001B[39m \u001B[43mdiff\u001B[49m\u001B[43m \u001B[49m\u001B[38;5;241;43m*\u001B[39;49m\u001B[38;5;241;43m*\u001B[39;49m\u001B[43m \u001B[49m\u001B[38;5;241;43m2\u001B[39;49m\n\u001B[1;32m     24\u001B[0m     y_energy \u001B[38;5;241m=\u001B[39m y_target \u001B[38;5;241m*\u001B[39m\u001B[38;5;241m*\u001B[39m \u001B[38;5;241m2\u001B[39m\n\u001B[1;32m     26\u001B[0m     loss_mse \u001B[38;5;241m=\u001B[39m torch\u001B[38;5;241m.\u001B[39mmean(diff2)\n",
      "File \u001B[0;32m~/miniconda3/envs/py_wdf_gpu/lib/python3.8/site-packages/torch/_tensor.py:39\u001B[0m, in \u001B[0;36m_handle_torch_function_and_wrap_type_error_to_not_implemented.<locals>.wrapped\u001B[0;34m(*args, **kwargs)\u001B[0m\n\u001B[1;32m     37\u001B[0m     \u001B[38;5;28;01mif\u001B[39;00m has_torch_function(args):\n\u001B[1;32m     38\u001B[0m         \u001B[38;5;28;01mreturn\u001B[39;00m handle_torch_function(wrapped, args, \u001B[38;5;241m*\u001B[39margs, \u001B[38;5;241m*\u001B[39m\u001B[38;5;241m*\u001B[39mkwargs)\n\u001B[0;32m---> 39\u001B[0m     \u001B[38;5;28;01mreturn\u001B[39;00m \u001B[43mf\u001B[49m\u001B[43m(\u001B[49m\u001B[38;5;241;43m*\u001B[39;49m\u001B[43margs\u001B[49m\u001B[43m,\u001B[49m\u001B[43m \u001B[49m\u001B[38;5;241;43m*\u001B[39;49m\u001B[38;5;241;43m*\u001B[39;49m\u001B[43mkwargs\u001B[49m\u001B[43m)\u001B[49m\n\u001B[1;32m     40\u001B[0m \u001B[38;5;28;01mexcept\u001B[39;00m \u001B[38;5;167;01mTypeError\u001B[39;00m:\n\u001B[1;32m     41\u001B[0m     \u001B[38;5;28;01mreturn\u001B[39;00m \u001B[38;5;28mNotImplemented\u001B[39m\n",
      "\u001B[0;31mKeyboardInterrupt\u001B[0m: "
     ]
    }
   ],
   "source": [
    "import time\n",
    "import pickle\n",
    "from torch.optim.lr_scheduler import ReduceLROnPlateau\n",
    "\n",
    "num_up = 1\n",
    "num_down = 1\n",
    "\n",
    "r_begin_list = [1.70e3]\n",
    "r_end_list   = [2.50e3]\n",
    "\n",
    "num_layers_list = [2]\n",
    "layer_size_list = [8]\n",
    "\n",
    "epochs = 200\n",
    "batch_size = 16\n",
    "\n",
    "\n",
    "losses_dict = {}\n",
    "for i, (r_begin, r_end) in enumerate(zip(r_begin_list, r_end_list)):\n",
    "    for num_layers in num_layers_list:\n",
    "        for layer_size in layer_size_list:\n",
    "            print(\"\\n\\n\\n======================\")\n",
    "            print(f\"{num_layers}x{layer_size}, {r_begin} → {r_end}\")\n",
    "            print(\"======================\\n\")\n",
    "\n",
    "            model = DiodePair(num_layers=num_layers, layer_size=layer_size).to(device)\n",
    "            # loss_func = nn.MSELoss()\n",
    "            loss_func_train = CombinedSignalLoss()\n",
    "            loss_func_valid = nn.MSELoss()\n",
    "            optimizer = torch.optim.AdamW(model.parameters(), lr=1e-3)\n",
    "            scheduler = ReduceLROnPlateau(optimizer, factor=0.5, patience=7, verbose=True)\n",
    "            train_dl, valid_dl, Fs = get_diodePair_dataloader(N=int(2*192e3), num_up=num_up, num_down=num_down, mode=\"LTspice\", r_begin=r_begin, r_end=r_end, batch_size=batch_size, plot=True)\n",
    "\n",
    "            train_losses, valid_losses = run_model(model, train_dl, valid_dl, epochs,\n",
    "                                                   loss_func_train=loss_func_train,\n",
    "                                                   loss_func_valid=loss_func_valid,\n",
    "                                                   optimizer=optimizer,\n",
    "                                                   scheduler=scheduler)\n",
    "\n",
    "            path_root = \"./pre_trained_models\"\n",
    "            save_model(model, path_root = path_root, num_up=num_up, num_down=num_down, r_begin=r_begin, r_end=r_end, loss=valid_losses[-1])\n",
    "\n",
    "            model_name = f\"{num_up}u{num_down}d_{num_layers}x{layer_size}_{r_begin / 1000:.2f}k_{r_end / 1000:.2f}k\"\n",
    "            losses_dict[model_name] = {'train_losses': train_losses, 'valid_losses': valid_losses}\n",
    "\n",
    "            # Save losses_dict after each model training\n",
    "            with open('losses_dict.pickle', 'wb') as handle:\n",
    "                pickle.dump(losses_dict, handle, protocol=pickle.HIGHEST_PROTOCOL)"
   ],
   "metadata": {
    "collapsed": false,
    "ExecuteTime": {
     "end_time": "2023-08-29T00:00:05.403888Z",
     "start_time": "2023-08-29T00:00:03.140610Z"
    }
   }
  },
  {
   "cell_type": "markdown",
   "source": [
    "## Plot Results"
   ],
   "metadata": {
    "collapsed": false
   }
  },
  {
   "cell_type": "code",
   "execution_count": 7,
   "outputs": [
    {
     "data": {
      "text/plain": "<Figure size 1200x500 with 2 Axes>",
      "image/png": "[encoded data removed]"
     },
     "metadata": {},
     "output_type": "display_data"
    }
   ],
   "source": [
    "fig, (ax1, ax2) = plt.subplots(1, 2, figsize=(12, 5))\n",
    "\n",
    "ax1.plot(train_losses, label='Train Loss')\n",
    "ax1.plot(valid_losses, label='Valid Loss')\n",
    "ax1.set_xlabel('Epochs')\n",
    "ax1.set_ylabel('Loss (Log Scale)')\n",
    "ax1.set_yscale('log')\n",
    "ax1.legend()\n",
    "\n",
    "with torch.no_grad():\n",
    "    a = torch.linspace(-8, 8, 1000)\n",
    "\n",
    "    r = 2000\n",
    "    r_normalized = (torch.ones_like(a) * torch.tensor(r) - 1.7e3) / 2.5e3\n",
    "\n",
    "    b = model(torch.stack([a, r_normalized], dim=1))\n",
    "    a = a.detach().numpy().reshape(-1, 1)\n",
    "    b = b.detach().numpy()\n",
    "    v = (a + b) / 2\n",
    "    i = (a - b) / (2*r)\n",
    "\n",
    "ax2.plot(v, i*1e3)\n",
    "ax2.set_xlabel('Voltage [V]')\n",
    "ax2.set_ylabel('Current [mA]')\n",
    "ax2.set_xlim(-1, 1)\n",
    "# ax2.set_ylim(-1e-2, 1e-2)\n",
    "ax2.ticklabel_format(style='sci', axis='y', scilimits=(0, 0))\n",
    "plt.show()"
   ],
   "metadata": {
    "collapsed": false,
    "ExecuteTime": {
     "end_time": "2023-08-27T02:00:40.391516Z",
     "start_time": "2023-08-27T02:00:40.030219Z"
    }
   }
  }
 ],
 "metadata": {
  "kernelspec": {
   "display_name": "Python 3",
   "language": "python",
   "name": "python3"
  },
  "language_info": {
   "codemirror_mode": {
    "name": "ipython",
    "version": 2
   },
   "file_extension": ".py",
   "mimetype": "text/x-python",
   "name": "python",
   "nbconvert_exporter": "python",
   "pygments_lexer": "ipython2",
   "version": "2.7.6"
  }
 },
 "nbformat": 4,
 "nbformat_minor": 0
}
