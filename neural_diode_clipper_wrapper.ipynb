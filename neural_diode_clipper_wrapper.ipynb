{
 "cells": [
  {
   "cell_type": "code",
   "execution_count": 3,
   "metadata": {
    "collapsed": true,
    "ExecuteTime": {
     "end_time": "2023-05-14T16:50:48.667244Z",
     "start_time": "2023-05-14T16:50:48.660273Z"
    }
   },
   "outputs": [],
   "source": [
    "import logging\n",
    "import os\n",
    "import pathlib\n",
    "from argparse import ArgumentParser\n",
    "from typing import Dict, List\n",
    "\n",
    "import torch as tr\n",
    "import torch.nn as nn\n",
    "from torch import Tensor\n",
    "\n",
    "from neutone_sdk import WaveformToWaveformBase, NeutoneParameter\n",
    "from neutone_sdk.utils import save_neutone_model\n",
    "\n",
    "logging.basicConfig()\n",
    "log = logging.getLogger(__name__)\n",
    "log.setLevel(level=os.environ.get(\"LOGLEVEL\", \"INFO\"))\n",
    "\n",
    "\n",
    "class ClipperModel(nn.Module):\n",
    "    def forward(\n",
    "        self, x: Tensor, min_val: Tensor, max_val: Tensor, gain: Tensor\n",
    "    ) -> Tensor:\n",
    "        tr.neg(min_val, out=min_val)\n",
    "        tr.mul(gain, min_val, out=min_val)\n",
    "        tr.mul(gain, max_val, out=max_val)\n",
    "        tr.clip(x, min=min_val, max=max_val, out=x)\n",
    "        return x\n",
    "\n",
    "\n",
    "class ClipperModelWrapper(WaveformToWaveformBase):\n",
    "    def get_model_name(self) -> str:\n",
    "        return \"clipper\"\n",
    "\n",
    "    def get_model_authors(self) -> List[str]:\n",
    "        return [\"Andrew Fyfe\"]\n",
    "\n",
    "    def get_model_short_description(self) -> str:\n",
    "        return \"Audio clipper.\"\n",
    "\n",
    "    def get_model_long_description(self) -> str:\n",
    "        return \"Clips the input audio between -1 and 1.\"\n",
    "\n",
    "    def get_technical_description(self) -> str:\n",
    "        return \"Clips the input audio between -1 and 1.\"\n",
    "\n",
    "    def get_technical_links(self) -> Dict[str, str]:\n",
    "        return {\n",
    "            \"Code\": \"https://github.com/QosmoInc/neutone_sdk/blob/main/examples/example_clipper.py\"\n",
    "        }\n",
    "\n",
    "    def get_tags(self) -> List[str]:\n",
    "        return [\"clipper\"]\n",
    "\n",
    "    def get_model_version(self) -> str:\n",
    "        return \"1.0.0\"\n",
    "\n",
    "    def is_experimental(self) -> bool:\n",
    "        return False\n",
    "\n",
    "    def get_neutone_parameters(self) -> List[NeutoneParameter]:\n",
    "        return [\n",
    "            NeutoneParameter(\"min\", \"min clip threshold\", default_value=0.15),\n",
    "            NeutoneParameter(\"max\", \"max clip threshold\", default_value=0.15),\n",
    "            NeutoneParameter(\"gain\", \"scale clip threshold\", default_value=1.0),\n",
    "        ]\n",
    "\n",
    "    @tr.jit.export\n",
    "    def is_input_mono(self) -> bool:\n",
    "        return False\n",
    "\n",
    "    @tr.jit.export\n",
    "    def is_output_mono(self) -> bool:\n",
    "        return False\n",
    "\n",
    "    @tr.jit.export\n",
    "    def get_native_sample_rates(self) -> List[int]:\n",
    "        return []  # Supports all sample rates\n",
    "\n",
    "    @tr.jit.export\n",
    "    def get_native_buffer_sizes(self) -> List[int]:\n",
    "        return []  # Supports all buffer sizes\n",
    "\n",
    "    def aggregate_params(self, params: Tensor) -> Tensor:\n",
    "        return params  # We want sample-level control, so no aggregation\n",
    "\n",
    "    def do_forward_pass(self, x: Tensor, params: Dict[str, Tensor]) -> Tensor:\n",
    "        min_val, max_val, gain = params[\"min\"], params[\"max\"], params[\"gain\"]\n",
    "        x = self.model.forward(x, min_val, max_val, gain)\n",
    "        return x"
   ]
  },
  {
   "cell_type": "code",
   "execution_count": 4,
   "outputs": [
    {
     "name": "stderr",
     "output_type": "stream",
     "text": [
      "usage: ipykernel_launcher.py [-h] [-o OUTPUT]\n",
      "ipykernel_launcher.py: error: unrecognized arguments: -f /Users/yangshijie/Library/Jupyter/runtime/kernel-1a0fd6c6-a24b-490d-88fb-c6c5a4a43cdf.json\n"
     ]
    },
    {
     "ename": "SystemExit",
     "evalue": "2",
     "output_type": "error",
     "traceback": [
      "An exception has occurred, use %tb to see the full traceback.\n",
      "\u001B[0;31mSystemExit\u001B[0m\u001B[0;31m:\u001B[0m 2\n"
     ]
    }
   ],
   "source": [
    "parser = ArgumentParser()\n",
    "parser.add_argument(\"-o\", \"--output\", default=\"export_model\")\n",
    "args = parser.parse_args()\n",
    "root_dir = pathlib.Path(args.output)\n",
    "\n",
    "model = ClipperModel()\n",
    "wrapper = ClipperModelWrapper(model)\n",
    "save_neutone_model(wrapper, root_dir, dump_samples=True, submission=True)"
   ],
   "metadata": {
    "collapsed": false,
    "ExecuteTime": {
     "end_time": "2023-05-14T16:50:53.313943Z",
     "start_time": "2023-05-14T16:50:53.306393Z"
    }
   }
  },
  {
   "cell_type": "code",
   "execution_count": null,
   "outputs": [],
   "source": [],
   "metadata": {
    "collapsed": false
   }
  }
 ],
 "metadata": {
  "kernelspec": {
   "display_name": "Python 3",
   "language": "python",
   "name": "python3"
  },
  "language_info": {
   "codemirror_mode": {
    "name": "ipython",
    "version": 2
   },
   "file_extension": ".py",
   "mimetype": "text/x-python",
   "name": "python",
   "nbconvert_exporter": "python",
   "pygments_lexer": "ipython2",
   "version": "2.7.6"
  }
 },
 "nbformat": 4,
 "nbformat_minor": 0
}
